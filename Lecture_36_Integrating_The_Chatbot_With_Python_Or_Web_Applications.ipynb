{
  "nbformat": 4,
  "nbformat_minor": 0,
  "metadata": {
    "colab": {
      "provenance": [],
      "include_colab_link": true
    },
    "kernelspec": {
      "name": "python3",
      "display_name": "Python 3"
    },
    "language_info": {
      "name": "python"
    }
  },
  "cells": [
    {
      "cell_type": "markdown",
      "metadata": {
        "id": "view-in-github",
        "colab_type": "text"
      },
      "source": [
        "<a href=\"https://colab.research.google.com/github/RRavin15/Cipher-School/blob/main/Lecture_36_Integrating_The_Chatbot_With_Python_Or_Web_Applications.ipynb\" target=\"_parent\"><img src=\"https://colab.research.google.com/assets/colab-badge.svg\" alt=\"Open In Colab\"/></a>"
      ]
    },
    {
      "cell_type": "code",
      "source": [
        "pip install bash"
      ],
      "metadata": {
        "colab": {
          "base_uri": "https://localhost:8080/"
        },
        "id": "rVR3WglpPnM0",
        "outputId": "9fa0f789-b2fd-4605-bf39-39cfeaf6ebcd"
      },
      "execution_count": 1,
      "outputs": [
        {
          "output_type": "stream",
          "name": "stdout",
          "text": [
            "Collecting bash\n",
            "  Downloading bash-0.6.tar.gz (2.8 kB)\n",
            "  Preparing metadata (setup.py) ... \u001b[?25l\u001b[?25hdone\n",
            "Building wheels for collected packages: bash\n",
            "  Building wheel for bash (setup.py) ... \u001b[?25l\u001b[?25hdone\n",
            "  Created wheel for bash: filename=bash-0.6-py3-none-any.whl size=2983 sha256=6a07ca3871595be7baee63b81609c42f4aaddc5e8ea2551728bb991af7c52107\n",
            "  Stored in directory: /root/.cache/pip/wheels/da/b0/d6/f1571e64317015c105787f4059264e9fac1ac95adac238f05e\n",
            "Successfully built bash\n",
            "Installing collected packages: bash\n",
            "Successfully installed bash-0.6\n"
          ]
        }
      ]
    },
    {
      "cell_type": "code",
      "source": [
        "import pandas as pd\n",
        "import nltk\n",
        "from sklearn.feature_extraction.text import TfidfVectorizer\n",
        "from sklearn.naive_bayes import MultinomialNB\n",
        "from sklearn.pipeline import make_pipeline\n",
        "from sklearn.model_selection import train_test_split\n",
        "import dash\n",
        "from dash import dcc, html\n",
        "from dash.dependencies import Input, Output\n",
        "import random\n"
      ],
      "metadata": {
        "id": "tNHkCcnAqwb6"
      },
      "execution_count": null,
      "outputs": []
    },
    {
      "cell_type": "code",
      "source": [
        "# Load the dataset\n",
        "\n",
        "data = pd.read_csv('/content/chatbot_dataset.csv')"
      ],
      "metadata": {
        "id": "1m5IGy_XrGe_"
      },
      "execution_count": null,
      "outputs": []
    },
    {
      "cell_type": "code",
      "source": [
        "# Preprocess the data\n",
        "\n",
        "nltk.download('punkt')\n",
        "data['Question'] = data['Question'].apply(lambda x: ' '.join(nltk.word_tokenize(x.lower())))"
      ],
      "metadata": {
        "colab": {
          "base_uri": "https://localhost:8080/"
        },
        "id": "MPseNgtBrlaj",
        "outputId": "2eb96e31-0126-4013-82a9-38ba3f6fe3ef"
      },
      "execution_count": null,
      "outputs": [
        {
          "output_type": "stream",
          "name": "stderr",
          "text": [
            "[nltk_data] Downloading package punkt to /root/nltk_data...\n",
            "[nltk_data]   Package punkt is already up-to-date!\n"
          ]
        }
      ]
    },
    {
      "cell_type": "code",
      "source": [
        "# Split the data into training and test sets\n",
        "\n",
        "X_train, X_test, y_train, y_test = train_test_split(data['Question'], data['Answer'], test_size=0.2, random_state=42)\n"
      ],
      "metadata": {
        "id": "Nlbz8ZgZrt8K"
      },
      "execution_count": null,
      "outputs": []
    },
    {
      "cell_type": "code",
      "source": [
        "# Create a model pipeline\n",
        "model = make_pipeline(TfidfVectorizer(), MultinomialNB())\n",
        "model.fit(X_train, y_train)\n",
        "\n",
        "def get_response(question):\n",
        "    question = ' '.join(nltk.word_tokenize(question.lower()))\n",
        "    answer = model.predict([question])[0]\n",
        "    return answer\n"
      ],
      "metadata": {
        "id": "dvSnEfbbr61-"
      },
      "execution_count": null,
      "outputs": []
    },
    {
      "cell_type": "code",
      "source": [
        "# Initialize the Dash app\n",
        "app = dash.Dash(__name__)\n"
      ],
      "metadata": {
        "id": "yyxo3J4lr_pu"
      },
      "execution_count": null,
      "outputs": []
    },
    {
      "cell_type": "code",
      "source": [
        "#Define the layout\n",
        "app.layout = html.Div([\n",
        "    html.H1(\"Chatbot\", style={'textAlign': 'center'}),\n",
        "    dcc.Textarea(\n",
        "        id='user-input',\n",
        "        value='Type your question here...',\n",
        "        style={'width': '100%', 'height': 100}\n",
        "    ),\n",
        "    html.Button('Submit', id='submit-button', n_clicks=0),\n",
        "    html.Div(id='chatbot-output', style={'padding': '10px'})\n",
        "])\n"
      ],
      "metadata": {
        "id": "wSzgv-Z4sJlc"
      },
      "execution_count": null,
      "outputs": []
    },
    {
      "cell_type": "code",
      "source": [
        "# Define callback to update chatbot response\n",
        "@app.callback(\n",
        "    Output('chatbot-output', 'children'),\n",
        "    Input('submit-button', 'n_clicks'),\n",
        "    [dash.dependencies.State('user-input', 'value')]\n",
        ")\n",
        "def update_output(n_clicks, user_input):\n",
        "    if n_clicks > 0:\n",
        "        response = get_response(user_input)\n",
        "        return html.Div([\n",
        "            html.P(f\"You: {user_input}\", style={'margin': '10px'}),\n",
        "            html.P(f\"Bot: {response}\", style={'margin': '10px', 'backgroundColor': '#f0f0f0', 'padding': '10px', 'borderRadius': '5px'})\n",
        "        ])\n",
        "    return \"Ask me something!\""
      ],
      "metadata": {
        "id": "HPeaemomsUDg"
      },
      "execution_count": null,
      "outputs": []
    },
    {
      "cell_type": "code",
      "source": [
        "# Run the app\n",
        "if __name__ == '__main__':\n",
        "    app.run_server(debug=True)\n"
      ],
      "metadata": {
        "colab": {
          "base_uri": "https://localhost:8080/",
          "height": 672
        },
        "id": "v0CkF1Z0sZMD",
        "outputId": "10fe904a-3fba-4942-9c7b-5bd64d2d51e4"
      },
      "execution_count": null,
      "outputs": [
        {
          "output_type": "display_data",
          "data": {
            "text/plain": [
              "<IPython.core.display.Javascript object>"
            ],
            "application/javascript": [
              "(async (port, path, width, height, cache, element) => {\n",
              "    if (!google.colab.kernel.accessAllowed && !cache) {\n",
              "      return;\n",
              "    }\n",
              "    element.appendChild(document.createTextNode(''));\n",
              "    const url = await google.colab.kernel.proxyPort(port, {cache});\n",
              "    const iframe = document.createElement('iframe');\n",
              "    iframe.src = new URL(path, url).toString();\n",
              "    iframe.height = height;\n",
              "    iframe.width = width;\n",
              "    iframe.style.border = 0;\n",
              "    iframe.allow = [\n",
              "        'accelerometer',\n",
              "        'autoplay',\n",
              "        'camera',\n",
              "        'clipboard-read',\n",
              "        'clipboard-write',\n",
              "        'gyroscope',\n",
              "        'magnetometer',\n",
              "        'microphone',\n",
              "        'serial',\n",
              "        'usb',\n",
              "        'xr-spatial-tracking',\n",
              "    ].join('; ');\n",
              "    element.appendChild(iframe);\n",
              "  })(8050, \"/\", \"100%\", 650, false, window.element)"
            ]
          },
          "metadata": {}
        }
      ]
    }
  ]
}